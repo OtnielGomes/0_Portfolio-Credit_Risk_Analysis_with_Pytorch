{
 "cells": [
  {
   "cell_type": "markdown",
   "metadata": {
    "application/vnd.databricks.v1+cell": {
     "cellMetadata": {},
     "inputWidgets": {},
     "nuid": "cbe06df6-6c2e-4c9e-94fa-0dbc023253d9",
     "showTitle": false,
     "title": ""
    }
   },
   "source": [
    "## GLOBAL CREDIT OUTLOOK FOR 2024"
   ]
  },
  {
   "cell_type": "markdown",
   "metadata": {
    "application/vnd.databricks.v1+cell": {
     "cellMetadata": {},
     "inputWidgets": {},
     "nuid": "bcf7415a-d6d3-4624-9de7-a8082c7aad87",
     "showTitle": false,
     "title": ""
    }
   },
   "source": [
    "\n",
    "Rapid changes in the global financial scenario, the evolution of monetary policy and growing inflation are impacting credit. According to research published in Global Credit Outlook 2024: New Risks, New Playbook by S&P Global Ratings (spglo-bal.com)¹, it is expected that in 2024 there will be further credit deterioration and an increase in defaults, especially for vulnerable credit issuers, that is, the sectors of the economy that depend on consumer spending.\n",
    "\n",
    "Borrowers will need to adapt to tighter financing conditions, and risks include persistent inflation, economic slowdown and geopolitical tensions. The research also reports that, in 2024, 40% of credits will be at risk of downgrade for sectors exposed to a drop in consumer spending, these being the most vulnerable. Meanwhile, higher investment grade credits (i.e. those with good credit quality) should continue to show resilience, although there may be margin compression (less profit) for these issuers.\n",
    "\n",
    "Analyzing the temporal context of credit and default, some challenges and problems remain the same, while other risks are emerging. This highlights the need to discuss new strategies and develop tools to adapt to this environment, where we have recurring problems that lead to the deterioration of credit and the emergence of new risks that will influence the current scenario.\n",
    "\n",
    "Bringing part of this context to Brazil, but still maintaining the global theme, in 2020 an article was published on credit risk and technical efficiency in Brazilian credit cooperatives ². In this study, the relationship between credit risk and the efficiency of these cooperatives was analyzed from 2008 to 2017. The two-stage Data Enve-lopment Analysis (DEA) model was used to obtain efficiency scores, with the analysis of a Tobit model in the second stage.\n",
    "\n",
    "The results indicated that the greater the credit risk, the lower the efficiency scores. Furthermore, credit cooperatives that managed to maintain their continuity in the market and diversify their products presented higher efficiency scores, generating more benefits for members. It was also observed that the increase in the number of service points reduced efficiency scores. During the period of Brazilian economic downturn between 2015 and 2017, there was a negative impact on the average efficiency scores of cooperatives.\n",
    "\n",
    "As a limitation, the results are based on selected accounting and financial information, and it is suggested that new variables related to the social dimension of cooperatives be incorporated in future studies to evaluate the global efficiency of Brazilian credit cooperatives.\n",
    "Based on these two studies and taking into account the current context regarding credit and its deterioration, it is possible to draw some conclusions regarding the problems that are recurring in the sector, and have a perspective on the new risks that are emerging.\n",
    "\n",
    "Credit unions, together with banks, are exposed to the same risks, and both must adhere to the efficient management of the risks inherent to their activities. The lack of control over risks directly affects the level of security and guarantee of the operations carried out. The main purpose of this control is to ensure efficiency in the provision of services by these financial institutions.\n",
    "\n",
    "Risk management is of singular importance for the survival and solidity of financial systems. For this reason, it constitutes one of the main focuses of concern both for the institutions themselves and for global banking supervision.\n",
    "\n",
    "Credit risk is linked to the probability of failure to fulfill the payment promise made by the borrower at the time of contracting or to the potential financial loss resulting from loan default. This type of risk has been the most related to bank failure problems, and is also one of the most common, considering that the activities of organizations such as banks and credit unions consist of granting loans.\n",
    "\n",
    "Here in Brazil, we have CMN Resolution No. 2682, which states that financial institutions and other companies authorized to operate by the Central Bank of Brazil (BACEN) must classify credit operations in ascending order of risk at the following levels: AA, A, B, C, D, E, F, G and H. Such classification is the responsibility of the institution holding the credit and must be carried out based on consistent and verifiable criteria.\n",
    "\n",
    "In the United States, credit rating is an assessment made by the market of the risk of an individual, company or country in relation to the ability to honor commitments made to other institutions. The better the rating, the better evaluated the debtor is in relation to their ability to pay the debt, or the lower the chance of default. Risk rating agencies, such as Standard & Poor’s, Moody’s and Fitch Ratings, assign credit ratings based on specific criteria. These grades range from AAA (minimum risk) to D (maximum risk), indicating the possibility of default.\n",
    "\n",
    "Given the circumstances above, it is understood that adequate risk management and the maintenance of satisfactory performance are determining factors for the continuity of financial institutions. Considering the importance of credit risk management and analysis, we must pay attention to recurring problems of a historical nature and new market challenges in the coming years. Seeking solutions that bring greater security to operations during credit granting, aiming to maintain the quality of services provided by financial institutions and their longevity."
   ]
  },
  {
   "cell_type": "markdown",
   "metadata": {
    "application/vnd.databricks.v1+cell": {
     "cellMetadata": {},
     "inputWidgets": {},
     "nuid": "f4e2ea4b-2286-49ad-ba0b-53d3ce0bb9c3",
     "showTitle": false,
     "title": ""
    }
   },
   "source": [
    "## Sources: \n",
    "#### ¹ Global Credit Outlook 2024: New Risks, New Playbook | S&P Global Ratings (spglobal.com): \n",
    "\n",
    "https://www.spglobal.com/ratings/en/research-insights/special-reports/global-credit-outlook-2024\n",
    "\n",
    "#### ² SciELO - Brazil - Risco de crédito e eficiência técnica nas cooperativas de crédito brasileiras Risco de crédito e eficiência técnica nas cooperativas de crédito brasileiras:\n",
    "\n",
    "https://www.scielo.br/j/cebape/a/cQzwGPNRSWrKBVZrTRLjZQx/\n"
   ]
  },
  {
   "cell_type": "code",
   "execution_count": 0,
   "metadata": {
    "application/vnd.databricks.v1+cell": {
     "cellMetadata": {},
     "inputWidgets": {},
     "nuid": "c5524389-fec6-4c13-b52d-f1c2bec3f689",
     "showTitle": false,
     "title": ""
    }
   },
   "outputs": [],
   "source": []
  }
 ],
 "metadata": {
  "application/vnd.databricks.v1+notebook": {
   "dashboards": [],
   "environmentMetadata": null,
   "language": "python",
   "notebookMetadata": {
    "pythonIndentUnit": 4
   },
   "notebookName": "1_Business_Understanding",
   "widgets": {}
  }
 },
 "nbformat": 4,
 "nbformat_minor": 0
}
